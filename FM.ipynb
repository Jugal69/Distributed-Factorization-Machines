{
 "cells": [
  {
   "cell_type": "code",
   "execution_count": 1,
   "metadata": {},
   "outputs": [],
   "source": [
    "from pyspark.sql import SparkSession\n",
    "import numpy as np\n",
    "import copy"
   ]
  },
  {
   "cell_type": "code",
   "execution_count": 2,
   "metadata": {},
   "outputs": [],
   "source": [
    "directory='file:///Users/khusaal/Documents/Masters/HPBDS/Project/netflix-prize-data/'\n",
    "lines=sc.textFile(directory+'combined_data_1.txt')"
   ]
  },
  {
   "cell_type": "code",
   "execution_count": 13,
   "metadata": {},
   "outputs": [
    {
     "data": {
      "text/plain": [
       "[[1, '1488844', '3', '2005', '09', '06'],\n",
       " [1, '822109', '5', '2005', '05', '13'],\n",
       " [1, '885013', '4', '2005', '10', '19'],\n",
       " [1, '30878', '4', '2005', '12', '26'],\n",
       " [1, '823519', '3', '2004', '05', '03']]"
      ]
     },
     "execution_count": 13,
     "metadata": {},
     "output_type": "execute_result"
    }
   ],
   "source": [
    "rows=1000\n",
    "def RDD_to_list(lines):\n",
    "    RDDlist=[]\n",
    "    for i in range(len(lines)):\n",
    "        if ':' in lines[i]:\n",
    "            movieID = lines[i].replace(':', '')\n",
    "        else:\n",
    "            temp=lines[i].split(',')\n",
    "            temp.extend(temp[2].split('-'))\n",
    "            del temp[2]\n",
    "            temp.insert(0,int(movieID))\n",
    "            RDDlist.append(temp)\n",
    "    return RDDlist\n",
    "RDD_data=sc.parallelize(RDD_to_list(lines.take(rows)))\n",
    "RDD_data.take(5)"
   ]
  },
  {
   "cell_type": "code",
   "execution_count": 14,
   "metadata": {},
   "outputs": [
    {
     "name": "stdout",
     "output_type": "stream",
     "text": [
      "3 2648861\n"
     ]
    }
   ],
   "source": [
    "movies=RDD_data.map(lambda x:x[0]).distinct().count()\n",
    "user=RDD_data.map(lambda x:int(x[1])).max()\n",
    "print(movies,user)"
   ]
  },
  {
   "cell_type": "code",
   "execution_count": 15,
   "metadata": {},
   "outputs": [
    {
     "data": {
      "text/plain": [
       "[[822109, ([1], 1.0)],\n",
       " [885013, ([1], 1.0)],\n",
       " [823519, ([1], 1.0)],\n",
       " [893988, ([1], 1.0)],\n",
       " [2207774, ([1], 1.0)]]"
      ]
     },
     "execution_count": 15,
     "metadata": {},
     "output_type": "execute_result"
    }
   ],
   "source": [
    "RDD_user=RDD_data.map(lambda x:(x[1],x[0])).groupByKey().mapValues(list).map(lambda x:[int(x[0]),(x[1],1/len(x[1]))])\n",
    "RDD_user.take(5)"
   ]
  },
  {
   "cell_type": "code",
   "execution_count": 16,
   "metadata": {},
   "outputs": [
    {
     "name": "stdout",
     "output_type": "stream",
     "text": [
      "2003\n"
     ]
    }
   ],
   "source": [
    "start_date=int(RDD_data.map(lambda x:x[3]).min())\n",
    "print(start_date)"
   ]
  },
  {
   "cell_type": "code",
   "execution_count": 17,
   "metadata": {},
   "outputs": [
    {
     "data": {
      "text/plain": [
       "[[1488844, (1, 3, 33.2)],\n",
       " [822109, (1, 5, 29.433333333333334)],\n",
       " [885013, (1, 4, 34.63333333333333)],\n",
       " [30878, (1, 4, 36.86666666666667)],\n",
       " [823519, (1, 3, 17.1)]]"
      ]
     },
     "execution_count": 17,
     "metadata": {},
     "output_type": "execute_result"
    }
   ],
   "source": [
    "def calculateMonths(line):\n",
    "    return [int(line[1]),(line[0],int(line[2]),(int(line[3])-start_date)*12+int(line[4])+int(line[5])/30.0)]\n",
    "RDD_time=RDD_data.map(lambda x:calculateMonths(x))\n",
    "RDD_time.take(5)"
   ]
  },
  {
   "cell_type": "code",
   "execution_count": 18,
   "metadata": {},
   "outputs": [
    {
     "data": {
      "text/plain": [
       "[(893988, (([1], 1.0), (1, 3, 35.56666666666667))),\n",
       " (1308744, (([1], 1.0), (1, 5, 34.96666666666667))),\n",
       " (4326, (([1], 1.0), (1, 4, 34.96666666666667))),\n",
       " (1196100, (([1], 1.0), (1, 4, 23.0))),\n",
       " (1834590, (([1], 1.0), (1, 3, 26.166666666666668)))]"
      ]
     },
     "execution_count": 18,
     "metadata": {},
     "output_type": "execute_result"
    }
   ],
   "source": [
    "RDD_join=RDD_user.join(RDD_time)\n",
    "RDD_join.take(5)"
   ]
  },
  {
   "cell_type": "code",
   "execution_count": 19,
   "metadata": {},
   "outputs": [
    {
     "data": {
      "text/plain": [
       "[[[3, 893988, 1.0, ([1], 1.0), 35.56666666666667, -1]],\n",
       " [[5, 1308744, 1.0, ([1], 1.0), 34.96666666666667, -1]],\n",
       " [[4, 4326, 1.0, ([1], 1.0), 34.96666666666667, -1]],\n",
       " [[4, 1196100, 1.0, ([1], 1.0), 23.0, -1]],\n",
       " [[3, 1834590, 1.0, ([1], 1.0), 26.166666666666668, -1]]]"
      ]
     },
     "execution_count": 19,
     "metadata": {},
     "output_type": "execute_result"
    }
   ],
   "source": [
    "def findLastMovie(x):\n",
    "    diff=np.zeros(len(x[1]))\n",
    "    movie=np.zeros(len(x[1]))\n",
    "    output=[]\n",
    "    for i in range(len(x[1])):\n",
    "        movie[i]=x[1][i][1][0]\n",
    "        diff[i]=x[1][i][1][2]\n",
    "    for i in range(len(x[1])):\n",
    "        d=copy.deepcopy(diff)\n",
    "        d[i]=10*diff[i]\n",
    "        last_movie=-1 if x[1][i][1][2]==np.min(diff) else movie[np.argmin(abs(d-x[1][i][1][2]))]\n",
    "        output.append([x[1][i][1][1],x[0],movie[i],x[1][i][0],diff[i],last_movie])\n",
    "    return output\n",
    "RDD_final=RDD_join.groupByKey().mapValues(list).map(lambda x:findLastMovie(x)).collect()\n",
    "RDD_final[:5]"
   ]
  },
  {
   "cell_type": "code",
   "execution_count": 20,
   "metadata": {},
   "outputs": [
    {
     "data": {
      "text/plain": [
       "[[3, 893988, 1.0, ([1], 1.0), 35.56666666666667, -1],\n",
       " [5, 1308744, 1.0, ([1], 1.0), 34.96666666666667, -1],\n",
       " [4, 4326, 1.0, ([1], 1.0), 34.96666666666667, -1],\n",
       " [4, 1196100, 1.0, ([1], 1.0), 23.0, -1],\n",
       " [3, 1834590, 1.0, ([1], 1.0), 26.166666666666668, -1]]"
      ]
     },
     "execution_count": 20,
     "metadata": {},
     "output_type": "execute_result"
    }
   ],
   "source": [
    "data=sc.parallelize([a for i in range(len(RDD_final)) for a in RDD_final[i]])\n",
    "data.take(5)"
   ]
  },
  {
   "cell_type": "code",
   "execution_count": 21,
   "metadata": {},
   "outputs": [
    {
     "name": "stdout",
     "output_type": "stream",
     "text": [
      "['3 893987:1 2648861:1 2648864:1.0 2648867:35.56666666666667', '5 1308743:1 2648861:1 2648864:1.0 2648867:34.96666666666667', '4 4325:1 2648861:1 2648864:1.0 2648867:34.96666666666667', '4 1196099:1 2648861:1 2648864:1.0 2648867:23.0', '3 1834589:1 2648861:1 2648864:1.0 2648867:26.166666666666668']\n"
     ]
    }
   ],
   "source": [
    "def toLibfm(data):\n",
    "    libfm=[str(data[0]),str(data[1]-1)+':1',str(int(user-1+data[2]))+':1']\n",
    "    for i in range(len(data[3][0])):\n",
    "        libfm.append(str(user-1+movies+data[3][0][i])+':'+str(data[3][1]))\n",
    "    libfm.append(str(user+2*movies)+':'+str(data[4]))\n",
    "    if data[5]!=-1:\n",
    "        libfm.append(str(int(user+2*movies+data[5]))+':1')\n",
    "    return ' '.join(i for i in libfm)\n",
    "file_data=data.map(lambda x:toLibfm(x))\n",
    "print(file_data.take(5))"
   ]
  },
  {
   "cell_type": "code",
   "execution_count": 23,
   "metadata": {},
   "outputs": [],
   "source": [
    "file_data.saveAsTextFile('file:///Users/khusaal/Documents/Masters/HPBDS/Project/output')"
   ]
  }
 ],
 "metadata": {
  "kernelspec": {
   "display_name": "Python 3",
   "language": "python",
   "name": "python3"
  },
  "language_info": {
   "codemirror_mode": {
    "name": "ipython",
    "version": 3
   },
   "file_extension": ".py",
   "mimetype": "text/x-python",
   "name": "python",
   "nbconvert_exporter": "python",
   "pygments_lexer": "ipython3",
   "version": "3.7.0"
  }
 },
 "nbformat": 4,
 "nbformat_minor": 2
}
